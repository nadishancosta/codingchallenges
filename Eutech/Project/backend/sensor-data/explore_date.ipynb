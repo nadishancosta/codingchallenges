{
 "cells": [
  {
   "cell_type": "code",
   "execution_count": 2,
   "id": "74fc0e46",
   "metadata": {},
   "outputs": [],
   "source": [
    "\n",
    "import os\n",
    "import pandas as pd\n",
    "import json\n",
    "from io import StringIO\n"
   ]
  },
  {
   "cell_type": "code",
   "execution_count": null,
   "id": "6c9659e1",
   "metadata": {},
   "outputs": [],
   "source": [
    "data_dir = './'\n",
    "if not os.path.exists(data_dir):\n",
    "    print(\"ADAS\")\n",
    "        \n",
    "all_data = []\n",
    "\n",
    "for filename in os.listdir(data_dir):\n",
    "    if filename.endswith('.ndjson'):\n",
    "        room_name = filename.split('.')[0]\n",
    "        file_path = os.path.join(data_dir, filename)\n",
    "        try:\n",
    "            # Read line-delimited JSON\n",
    "            with open(file_path, 'r') as f:\n",
    "                df = pd.read_json(f, lines=True)\n",
    "            \n",
    "            # Normalize columns\n",
    "            column_map = {'temp': 'temperature', 'CO2 (PPM)': 'CO2'}\n",
    "            df.rename(columns=lambda c: column_map.get(c.strip(), c.strip()), inplace=True)\n",
    "            \n",
    "            df['room'] = room_name\n",
    "            all_data.append(df)\n",
    "        except Exception as e:\n",
    "            print(f\"Error reading or processing {filename}: {e}\")\n",
    "            continue\n",
    "            \n",
    "\n",
    "df = pd.concat(all_data, ignore_index=True)\n",
    "df['timestamp'] = pd.to_datetime(df['timestamp'])"
   ]
  },
  {
   "cell_type": "code",
   "execution_count": 4,
   "id": "4d5c0d2e",
   "metadata": {},
   "outputs": [
    {
     "name": "stdout",
     "output_type": "stream",
     "text": [
      "4\n"
     ]
    }
   ],
   "source": [
    "print(counter)"
   ]
  }
 ],
 "metadata": {
  "kernelspec": {
   "display_name": "eutech-DB9SCka4",
   "language": "python",
   "name": "python3"
  },
  "language_info": {
   "codemirror_mode": {
    "name": "ipython",
    "version": 3
   },
   "file_extension": ".py",
   "mimetype": "text/x-python",
   "name": "python",
   "nbconvert_exporter": "python",
   "pygments_lexer": "ipython3",
   "version": "3.12.4"
  }
 },
 "nbformat": 4,
 "nbformat_minor": 5
}
