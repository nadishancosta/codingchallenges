{
 "cells": [
  {
   "cell_type": "markdown",
   "id": "071a44b9",
   "metadata": {},
   "source": [
    "# ROBO FLOW\n",
    "\n",
    "Imagine a robot sitting on the upper left corner of an NxM grid. The robot can only move in two directions: right and down.\n",
    "Imagine certain squares are “off limits”, such that the robot can not step on them.\n",
    "Design an algorithm to find a path for the robot from the top left to the bottom right.  \n",
    "Sample grid input (where -1 represents cells that are off-limit):\n",
    "\n",
    "\n",
    "{0, 0, 0, 0}\n",
    "\n",
    "{0, 0, 0, 0}\n",
    "\n",
    "{0, -1, 0, 0}\n",
    "\n",
    "{0, -1, 0, 0}"
   ]
  },
  {
   "cell_type": "code",
   "execution_count": 2,
   "id": "1b80dc13",
   "metadata": {},
   "outputs": [],
   "source": [
    "arr = [\n",
    "    [0,0,0,0],\n",
    "    [0,0,0,0],\n",
    "    [0,-1,0,0],\n",
    "    [0,0,0,0],\n",
    "]"
   ]
  },
  {
   "cell_type": "code",
   "execution_count": null,
   "id": "67cf6b08",
   "metadata": {},
   "outputs": [],
   "source": []
  }
 ],
 "metadata": {
  "kernelspec": {
   "display_name": "Python 3",
   "language": "python",
   "name": "python3"
  },
  "language_info": {
   "codemirror_mode": {
    "name": "ipython",
    "version": 3
   },
   "file_extension": ".py",
   "mimetype": "text/x-python",
   "name": "python",
   "nbconvert_exporter": "python",
   "pygments_lexer": "ipython3",
   "version": "3.12.4"
  }
 },
 "nbformat": 4,
 "nbformat_minor": 5
}
