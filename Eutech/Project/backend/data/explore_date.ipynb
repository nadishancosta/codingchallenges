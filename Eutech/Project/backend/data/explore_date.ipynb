{
 "cells": [
  {
   "cell_type": "code",
   "execution_count": 31,
   "id": "74fc0e46",
   "metadata": {},
   "outputs": [],
   "source": [
    "import os\n",
    "import pandas as pd\n",
    "import json\n",
    "from io import StringIO\n",
    "\n",
    "\n",
    "\n",
    "data_dir = './'\n",
    "if not os.path.exists(data_dir):\n",
    "    print(f\"Error: Data directory '{data_dir}' not found.\")\n",
    "    \n",
    "standardized_data = []\n",
    "# These are the standard names we will use for the DataFrame columns.\n",
    "standard_columns = ['timestamp', 'co2', 'humidity', 'temperature']\n",
    "\n",
    "for filename in os.listdir(data_dir):\n",
    "    if filename.endswith('.ndjson'):\n",
    "        # Create a clean room name, e.g., 'room_a.txt' -> 'Room A'\n",
    "        room_name = filename.split('.')[0].replace('_', ' ')[-6:].title()\n",
    "        file_path = os.path.join(data_dir, filename)\n",
    "        \n",
    "        try:\n",
    "            with open(file_path, 'r', encoding='utf-8') as f:\n",
    "                for i, line in enumerate(f):\n",
    "                    # Skip empty or whitespace-only lines\n",
    "                    if not line.strip():\n",
    "                        continue\n",
    "                    \n",
    "                    try:\n",
    "                        # Load the JSON object from the line\n",
    "                        data_dict = json.loads(line)\n",
    "                        \n",
    "                        # Get values in their insertion order (works in Python 3.7+)\n",
    "                        values = list(data_dict.values())\n",
    "                        \n",
    "                        # Validate that we have the expected number of fields\n",
    "                        if len(values) != 4:\n",
    "                            print(f\"Warning: Skipping malformed line {i+1} in {filename} (expected 4 fields, got {len(values)}).\")\n",
    "                            continue\n",
    "\n",
    "                        # Create a standardized dictionary by zipping keys and values\n",
    "                        record = dict(zip(standard_columns, values))\n",
    "                        record['room'] = room_name  # Add the room name\n",
    "                        standardized_data.append(record)\n",
    "                        \n",
    "                    except (json.JSONDecodeError, IndexError) as e:\n",
    "                        print(f\"Warning: Skipping corrupted line {i+1} in {filename}. Error: {e}\")\n",
    "                        continue\n",
    "\n",
    "        except Exception as e:\n",
    "            print(f\"Error reading file {filename}: {e}\")\n",
    "            continue\n",
    "            \n",
    "if not standardized_data:\n",
    "    print(\"Error: No data could be loaded. Check file contents and paths.\")\n",
    "\n",
    "# Create the DataFrame from our list of standardized records\n",
    "df = pd.DataFrame(standardized_data)\n",
    "\n",
    "# Convert relevant columns to the correct data types, coercing errors\n",
    "df['timestamp'] = pd.to_datetime(df['timestamp'], errors='coerce')\n",
    "for col in ['co2', 'humidity', 'temperature']:\n",
    "    df[col] = pd.to_numeric(df[col], errors='coerce')\n",
    "\n",
    "# Drop any rows where critical data conversion failed\n",
    "df.dropna(subset=['timestamp', 'co2', 'humidity', 'temperature'], inplace=True)\n",
    "\n"
   ]
  },
  {
   "cell_type": "code",
   "execution_count": 32,
   "id": "5652c033",
   "metadata": {},
   "outputs": [],
   "source": [
    "room = \"Room 1\"\n",
    "df_room1 = df[df['room'] == room]\n",
    "average_co2 = df_room1['co2'].mean()"
   ]
  },
  {
   "cell_type": "code",
   "execution_count": 33,
   "id": "357b3328",
   "metadata": {},
   "outputs": [
    {
     "data": {
      "text/plain": [
       "np.float64(701.2419330855018)"
      ]
     },
     "execution_count": 33,
     "metadata": {},
     "output_type": "execute_result"
    }
   ],
   "source": [
    "average_co2"
   ]
  }
 ],
 "metadata": {
  "kernelspec": {
   "display_name": "eutech-DB9SCka4",
   "language": "python",
   "name": "python3"
  },
  "language_info": {
   "codemirror_mode": {
    "name": "ipython",
    "version": 3
   },
   "file_extension": ".py",
   "mimetype": "text/x-python",
   "name": "python",
   "nbconvert_exporter": "python",
   "pygments_lexer": "ipython3",
   "version": "3.12.4"
  }
 },
 "nbformat": 4,
 "nbformat_minor": 5
}
