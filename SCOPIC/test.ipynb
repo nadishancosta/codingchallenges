{
 "cells": [
  {
   "cell_type": "markdown",
   "metadata": {},
   "source": [
    "## Environment"
   ]
  },
  {
   "cell_type": "code",
   "execution_count": null,
   "metadata": {},
   "outputs": [],
   "source": [
    "!pip install transformers\n",
    "!pip install pytorch-lightning\n",
    "!pip install ipywidgets"
   ]
  },
  {
   "cell_type": "markdown",
   "metadata": {},
   "source": [
    "## Imports"
   ]
  },
  {
   "cell_type": "code",
   "execution_count": 15,
   "metadata": {},
   "outputs": [],
   "source": [
    "import pandas as pd\n",
    "import numpy as np\n",
    "import re\n",
    "import string\n",
    "import matplotlib.pyplot as plt\n",
    "from tqdm.auto import tqdm\n",
    "from transformers import AutoTokenizer\n",
    "import json\n",
    "import glob\n",
    "import os\n",
    "\n",
    "from transformers import AutoModel, AdamW, get_cosine_schedule_with_warmup\n",
    "# from torch.optim.AdamW import AdamW \n",
    "import torch.nn as nn\n",
    "import math\n",
    "from torchmetrics.functional.classification import auroc\n",
    "import torch.nn.functional as F\n",
    "\n",
    "from torch.utils.data import Dataset\n",
    "import torch\n",
    "import pytorch_lightning as pl\n",
    "from torch.utils.data import DataLoader\n"
   ]
  },
  {
   "cell_type": "markdown",
   "metadata": {},
   "source": [
    "## Functions"
   ]
  },
  {
   "cell_type": "markdown",
   "metadata": {},
   "source": [
    "### Creating Dataset"
   ]
  },
  {
   "cell_type": "code",
   "execution_count": 6,
   "metadata": {},
   "outputs": [],
   "source": [
    "def loaddata():\n",
    "\n",
    "    df_user = pd.read_excel(\"data 1/CodeAid Source Codes Labeling.xlsx\")\n",
    "    df = pd.DataFrame(columns=['instruction','Code', '3.5 Turbo','GPT-4', '4 Turbo'])\n",
    "    \n",
    "    for x in range (0,63):\n",
    "        instructionstr = \"\"\n",
    "        location = f\"data 1/dataset-source-codes/source_code_00{str(x)}/\"\n",
    "        location_json = f\"data 1/dataset-source-codes/source_code_00{str(x)}/source_code_00{str(x)}.json\"\n",
    "        #This condition handles when the file name number has two digits instead of 1\n",
    "        if(x>9):\n",
    "            location = f\"data 1/dataset-source-codes/source_code_0{str(x)}/\"\n",
    "            location_json = f\"data 1/dataset-source-codes/source_code_0{str(x)}/source_code_0{str(x)}.json\"\n",
    "\n",
    "\n",
    "        with open(location_json, 'r') as f:\n",
    "            data = json.load(f)\n",
    "\n",
    "        if 'rules' in data and isinstance(data['rules'], list):\n",
    "            data['rules'] = (', '.join(data['rules']))\n",
    "            \n",
    "        instructionstr = (data[\"question\"] + \", \"+data['rules'] )\n",
    "        \n",
    "        for infile in glob.glob(os.path.join(location, '*')):\n",
    "            review_file = open(infile,'r').read()\n",
    "\n",
    "            if(infile.find(\"gpt-4_\")>0):\n",
    "                df.loc[len(df)] = [instructionstr,review_file,0,1,0]\n",
    "                continue\n",
    "\n",
    "            elif(infile.find(\"4-turbo\")>0):\n",
    "                df.loc[len(df)] = [instructionstr,review_file,0,0,1]\n",
    "                continue\n",
    "\n",
    "            elif(infile.find(\"3.5\")>0):\n",
    "                df.loc[len(df)] = [instructionstr,review_file,1,0,0]\n",
    "                continue\n",
    "\n",
    "            elif(infile.find(\"json\")<=0):\n",
    "                \n",
    "                concatarr = [0.0,0.0,0.0,0.0,0.0,0.0]\n",
    "                for y in range(6):\n",
    "                    concatarr[y] = float(df_user['plagiarism_score'][(x*6)+y])\n",
    "                df.loc[len(df)] = [instructionstr,review_file,concatarr[0],concatarr[2],concatarr[4]]\n",
    "                df.loc[len(df)] = [instructionstr,review_file,concatarr[1],concatarr[3],concatarr[5]]\n",
    "                continue\n",
    "    df.drop_duplicates(inplace=True)\n",
    "    df.reset_index(drop=True,inplace=True)\n",
    "    df.to_csv(\"Dataset.csv\",index=False) \n",
    "    return df"
   ]
  },
  {
   "cell_type": "markdown",
   "metadata": {},
   "source": [
    "### Clean Code and Instruction Textual Data and Shuffle the Data"
   ]
  },
  {
   "cell_type": "code",
   "execution_count": 7,
   "metadata": {},
   "outputs": [],
   "source": [
    "def getdata():\n",
    "    df = loaddata()\n",
    "\n",
    "    df['Code']=df['Code'].apply(lambda x: re.sub('[%s]' % re.escape(string.punctuation), ' ', x))\n",
    "    df['Code']=df['Code'].apply(lambda x: x.lower())\n",
    "    df['Code']=df['Code'].apply(lambda x: re.sub('\\n',' ',x))\n",
    "    df['Code']=df['Code'].apply(lambda x: re.sub(' +',' ',x))\n",
    "\n",
    "    df['instruction']=df['instruction'].apply(lambda x: re.sub('[%s]' % re.escape(string.punctuation), ' ', x))\n",
    "    df['instruction']=df['instruction'].apply(lambda x: x.lower())\n",
    "    df['instruction']=df['instruction'].apply(lambda x: re.sub('\\n',' ',x))\n",
    "    df['instruction']=df['instruction'].apply(lambda x: re.sub(' +',' ',x))\n",
    "\n",
    "    shuffled = df.sample(frac=1,random_state=42).reset_index(drop=True)\n",
    "    shuffled.head()\n",
    "\n",
    "\n",
    "    trainsplit = int(len(shuffled)*.7)\n",
    "    testsplit = int((len(shuffled) - trainsplit)/2)+trainsplit\n",
    "\n",
    "    train_data = shuffled.loc[0:trainsplit]\n",
    "    test_data = shuffled.loc[trainsplit+1:testsplit]\n",
    "    val_data = shuffled.loc[testsplit+1:]\n",
    "\n",
    "    test_data.reset_index(drop=True,inplace=True)\n",
    "    val_data.reset_index(drop=True,inplace=True)\n",
    "\n",
    "\n",
    "    \n",
    "    return train_data,val_data,test_data"
   ]
  },
  {
   "cell_type": "markdown",
   "metadata": {},
   "source": [
    "### GGWP"
   ]
  },
  {
   "cell_type": "markdown",
   "metadata": {},
   "source": [
    "# Test"
   ]
  },
  {
   "cell_type": "code",
   "execution_count": 8,
   "metadata": {},
   "outputs": [],
   "source": [
    "train_data,val_data,test_data = getdata()"
   ]
  },
  {
   "cell_type": "code",
   "execution_count": 16,
   "metadata": {},
   "outputs": [
    {
     "data": {
      "text/plain": [
       "<Axes: >"
      ]
     },
     "execution_count": 16,
     "metadata": {},
     "output_type": "execute_result"
    },
    {
     "data": {
      "image/png": "[encoded data removed]",
      "text/plain": [
       "<Figure size 640x480 with 1 Axes>"
      ]
     },
     "metadata": {},
     "output_type": "display_data"
    }
   ],
   "source": [
    "attributes = ['3.5 Turbo', 'GPT-4','4 Turbo']\n",
    "\n",
    "val_data[attributes].sum().plot.bar()"
   ]
  },
  {
   "cell_type": "code",
   "execution_count": 10,
   "metadata": {},
   "outputs": [],
   "source": [
    "class Code_Dataset(Dataset):\n",
    "\n",
    "  def __init__(self, data, tokenizer, attributes, max_token_len: int = 512):\n",
    "    self.data = data\n",
    "    self.tokenizer = tokenizer\n",
    "    self.attributes = attributes\n",
    "    self.max_token_len = max_token_len\n",
    "      \n",
    "  def __len__(self):\n",
    "      return len(self.data)\n",
    "\n",
    "  def __getitem__(self, index):\n",
    "    item = self.data.iloc[index]\n",
    "    code_sample = str(item.Code)\n",
    "    attributes = torch.FloatTensor(item[self.attributes])\n",
    "    tokens = self.tokenizer.encode_plus(code_sample,\n",
    "                                        add_special_tokens=True,\n",
    "                                        return_tensors='pt',\n",
    "                                        truncation=True,\n",
    "                                        padding='max_length',\n",
    "                                        max_length=self.max_token_len,\n",
    "                                        return_attention_mask = True)\n",
    "    return {'input_ids': tokens.input_ids.flatten(), 'attention_mask': tokens.attention_mask.flatten(), 'labels': attributes}\n"
   ]
  },
  {
   "cell_type": "code",
   "execution_count": 11,
   "metadata": {},
   "outputs": [],
   "source": [
    "model_name = \"distilbert-base-uncased\"\n",
    "tokenizer = AutoTokenizer.from_pretrained(model_name)\n",
    "# model_name = 'roberta-base'\n",
    "# tokenizer = AutoTokenizer.from_pretrained(model_name)\n",
    "Code_ds_train = Code_Dataset(train_data, tokenizer, attributes=attributes)\n",
    "Code_ds_val = Code_Dataset(val_data, tokenizer, attributes=attributes)\n",
    "Code_ds_test = Code_Dataset(test_data, tokenizer, attributes=attributes)"
   ]
  },
  {
   "cell_type": "code",
   "execution_count": 13,
   "metadata": {},
   "outputs": [],
   "source": [
    "class Code_Data_Module(pl.LightningDataModule):\n",
    "\n",
    "    def __init__(self, train_data, val_data, test_data, attributes, batch_size: int = 4, max_token_length: int = 512,  model_name='distilbert-base-uncased'):\n",
    "        super().__init__()\n",
    "        self.train_data = train_data\n",
    "        self.val_data = val_data\n",
    "        self.test_data = test_data\n",
    "        self.attributes = attributes\n",
    "        self.batch_size = batch_size\n",
    "        self.max_token_length = max_token_length\n",
    "        self.model_name = model_name\n",
    "        self.tokenizer = AutoTokenizer.from_pretrained(model_name)\n",
    "\n",
    "\n",
    "    def setup(self, stage):\n",
    "        if stage == \"train\":\n",
    "            self.train_dataset = Code_Dataset(self.train_data, attributes=self.attributes, tokenizer=self.tokenizer)\n",
    "            self.val_dataset = Code_Dataset(self.val_data, attributes=self.attributes, tokenizer=self.tokenizer)\n",
    "        if stage == 'predict':\n",
    "            self.test_dataset = Code_Dataset(self.test_data, attributes=self.attributes, tokenizer=self.tokenizer)\n",
    "\n",
    "\n",
    "    def train_dataloader(self):\n",
    "        return DataLoader(self.train_dataset, batch_size = self.batch_size, num_workers=4, shuffle=True)\n",
    "\n",
    "    def val_dataloader(self):\n",
    "        return DataLoader(self.val_dataset, batch_size = self.batch_size, num_workers=4, shuffle=False)\n",
    "\n",
    "    def predict_dataloader(self):\n",
    "        return DataLoader(self.test_data, batch_size = self.batch_size, num_workers=4, shuffle=False)"
   ]
  },
  {
   "cell_type": "code",
   "execution_count": 14,
   "metadata": {},
   "outputs": [
    {
     "data": {
      "text/plain": [
       "83"
      ]
     },
     "execution_count": 14,
     "metadata": {},
     "output_type": "execute_result"
    }
   ],
   "source": [
    "Code_dm = Code_Data_Module(train_data, val_data, test_data, attributes)\n",
    "Code_dm.setup(\"train\")\n",
    "Code_dm.train_dataloader()\n",
    "len(Code_dm.train_dataloader())"
   ]
  },
  {
   "cell_type": "code",
   "execution_count": 17,
   "metadata": {},
   "outputs": [],
   "source": [
    "class Code_Classifier(pl.LightningModule):\n",
    "\n",
    "    def __init__(self, config: dict):\n",
    "        super().__init__()\n",
    "        self.config = config\n",
    "        self.pretrained_model = AutoModel.from_pretrained(config['model_name'], return_dict = True)\n",
    "        self.hidden = torch.nn.Linear(self.pretrained_model.config.hidden_size, self.pretrained_model.config.hidden_size)\n",
    "        self.classifier = torch.nn.Linear(self.pretrained_model.config.hidden_size, self.config['n_labels'])\n",
    "        torch.nn.init.xavier_uniform_(self.classifier.weight)\n",
    "        self.loss_func = nn.BCEWithLogitsLoss(reduction='mean')\n",
    "        self.dropout = nn.Dropout()\n",
    "\n",
    "    def forward(self, input_ids, attention_mask, labels=None):\n",
    "        # roberta layer\n",
    "        output = self.pretrained_model(input_ids=input_ids, attention_mask=attention_mask)\n",
    "        pooled_output = torch.mean(output.last_hidden_state, 1)\n",
    "        # final logits\n",
    "        pooled_output = self.dropout(pooled_output)\n",
    "        pooled_output = self.hidden(pooled_output)\n",
    "        pooled_output = F.relu(pooled_output)\n",
    "        pooled_output = self.dropout(pooled_output)\n",
    "        logits = self.classifier(pooled_output)\n",
    "        # calculate loss\n",
    "        loss = 0\n",
    "        if labels is not None:\n",
    "            loss = self.loss_func(logits.view(-1, self.config['n_labels']), labels.view(-1, self.config['n_labels']))\n",
    "        return loss, logits\n",
    "    \n",
    "    def training_step(self, batch, batch_index):\n",
    "        loss, outputs = self(**batch)\n",
    "        self.log(\"train loss \", loss, prog_bar = True, logger=True)\n",
    "        return {\"loss\":loss, \"predictions\":outputs, \"labels\": batch[\"labels\"]}\n",
    "    \n",
    "    def validation_step(self, batch, batch_index):\n",
    "        loss, outputs = self(**batch)\n",
    "        self.log(\"validation loss \", loss, prog_bar = True, logger=True)\n",
    "        return {\"val_loss\": loss, \"predictions\":outputs, \"labels\": batch[\"labels\"]}\n",
    "    \n",
    "    def predict_step(self, batch, batch_index):\n",
    "        loss, outputs = self(**batch)\n",
    "        return outputs\n",
    "    \n",
    "    def configure_optimizers(self):\n",
    "        optimizer = AdamW(self.parameters(), lr=self.config['lr'], weight_decay=self.config['weight_decay'])\n",
    "        total_steps = self.config['train_size']/self.config['batch_size']\n",
    "        warmup_steps = math.floor(total_steps * self.config['warmup'])\n",
    "        scheduler = get_cosine_schedule_with_warmup(optimizer, warmup_steps, total_steps)\n",
    "        return [optimizer],[scheduler]"
   ]
  },
  {
   "cell_type": "code",
   "execution_count": 18,
   "metadata": {},
   "outputs": [],
   "source": [
    "config = {\n",
    "    'model_name': 'distilbert-base-uncased',\n",
    "    'n_labels': len(attributes),\n",
    "    'batch_size': 4,\n",
    "    'lr': 1.5e-6,\n",
    "    'warmup': 0.2, \n",
    "    'train_size': len(Code_dm.train_dataloader()),\n",
    "    'weight_decay': 0.001,\n",
    "    'n_epochs': 10\n",
    "}\n",
    "\n"
   ]
  },
  {
   "cell_type": "code",
   "execution_count": null,
   "metadata": {},
   "outputs": [
    {
     "name": "stderr",
     "output_type": "stream",
     "text": [
      "GPU available: False, used: False\n",
      "TPU available: False, using: 0 TPU cores\n",
      "HPU available: False, using: 0 HPUs\n",
      "c:\\Users\\ncool\\AppData\\Local\\Programs\\Python\\Python312\\Lib\\site-packages\\pytorch_lightning\\trainer\\connectors\\logger_connector\\logger_connector.py:76: Starting from v1.9.0, `tensorboardX` has been removed as a dependency of the `pytorch_lightning` package, due to potential conflicts with other packages in the ML ecosystem. For this reason, `logger=True` will use `CSVLogger` as the default logger, unless the `tensorboard` or `tensorboardX` packages are found. Please `pip install lightning[extra]` or one of them to enable TensorBoard support by default\n",
      "c:\\Users\\ncool\\AppData\\Local\\Programs\\Python\\Python312\\Lib\\site-packages\\transformers\\optimization.py:591: FutureWarning: This implementation of AdamW is deprecated and will be removed in a future version. Use the PyTorch implementation torch.optim.AdamW instead, or set `no_deprecation_warning=True` to disable this warning\n",
      "  warnings.warn(\n",
      "\n",
      "  | Name             | Type              | Params | Mode \n",
      "---------------------------------------------------------------\n",
      "0 | pretrained_model | DistilBertModel   | 66.4 M | eval \n",
      "1 | hidden           | Linear            | 590 K  | train\n",
      "2 | classifier       | Linear            | 2.3 K  | train\n",
      "3 | loss_func        | BCEWithLogitsLoss | 0      | train\n",
      "4 | dropout          | Dropout           | 0      | train\n",
      "---------------------------------------------------------------\n",
      "67.0 M    Trainable params\n",
      "0         Non-trainable params\n",
      "67.0 M    Total params\n",
      "267.823   Total estimated model params size (MB)\n",
      "4         Modules in train mode\n",
      "92        Modules in eval mode\n"
     ]
    },
    {
     "name": "stdout",
     "output_type": "stream",
     "text": [
      "Sanity Checking: |          | 0/? [00:00<?, ?it/s]"
     ]
    },
    {
     "name": "stderr",
     "output_type": "stream",
     "text": [
      "c:\\Users\\ncool\\AppData\\Local\\Programs\\Python\\Python312\\Lib\\site-packages\\pytorch_lightning\\trainer\\connectors\\data_connector.py:420: Consider setting `persistent_workers=True` in 'val_dataloader' to speed up the dataloader worker initialization.\n"
     ]
    }
   ],
   "source": [
    "Code_dm = Code_Data_Module(train_data, val_data, test_data, attributes)\n",
    "Code_dm.setup(\"train\")\n",
    "\n",
    "model = Code_Classifier(config)\n",
    "\n",
    "trainer = pl.Trainer(max_epochs=config['n_epochs'], num_sanity_val_steps=50)\n",
    "trainer.fit(model, Code_dm)"
   ]
  }
 ],
 "metadata": {
  "kernelspec": {
   "display_name": "Python 3",
   "language": "python",
   "name": "python3"
  },
  "language_info": {
   "codemirror_mode": {
    "name": "ipython",
    "version": 3
   },
   "file_extension": ".py",
   "mimetype": "text/x-python",
   "name": "python",
   "nbconvert_exporter": "python",
   "pygments_lexer": "ipython3",
   "version": "3.12.4"
  }
 },
 "nbformat": 4,
 "nbformat_minor": 2
}
